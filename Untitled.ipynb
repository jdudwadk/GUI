{
 "cells": [
  {
   "cell_type": "code",
   "execution_count": 3,
   "metadata": {},
   "outputs": [],
   "source": [
    "from main import config_builder"
   ]
  },
  {
   "cell_type": "code",
   "execution_count": 5,
   "metadata": {},
   "outputs": [
    {
     "data": {
      "application/vnd.jupyter.widget-view+json": {
       "model_id": "52574ec1432b4dd398a2ccf4d9bcbbc8",
       "version_major": 2,
       "version_minor": 0
      },
      "text/plain": [
       "HTML(value='<font color=crimson><font size=5><b><u>CHEMLG</font>')"
      ]
     },
     "metadata": {},
     "output_type": "display_data"
    },
    {
     "data": {
      "application/vnd.jupyter.widget-view+json": {
       "model_id": "9cfa6b642dc44aab8dfbdcb14f2f7743",
       "version_major": 2,
       "version_minor": 0
      },
      "text/plain": [
       "interactive(children=(RadioButtons(description='Run ChemLG ', index=1, options=('with constraints', 'without c…"
      ]
     },
     "metadata": {},
     "output_type": "display_data"
    }
   ],
   "source": [
    "config_builder()"
   ]
  },
  {
   "cell_type": "code",
   "execution_count": null,
   "metadata": {},
   "outputs": [],
   "source": []
  },
  {
   "cell_type": "code",
   "execution_count": null,
   "metadata": {},
   "outputs": [],
   "source": []
  },
  {
   "cell_type": "code",
   "execution_count": 26,
   "metadata": {},
   "outputs": [
    {
     "data": {
      "application/vnd.jupyter.widget-view+json": {
       "model_id": "725df5a8ae18431784b44fece1b8cc6e",
       "version_major": 2,
       "version_minor": 0
      },
      "text/plain": [
       "HTML(value='<font color=crimson><font size=5><b><u>CHEMLG</font>')"
      ]
     },
     "metadata": {},
     "output_type": "display_data"
    },
    {
     "data": {
      "application/vnd.jupyter.widget-view+json": {
       "model_id": "116b0592569d42d7a69a6fab9acc126e",
       "version_major": 2,
       "version_minor": 0
      },
      "text/plain": [
       "RadioButtons(description='Run ChemLG ', index=1, options=('with constraints', 'without constraints'), value='w…"
      ]
     },
     "metadata": {},
     "output_type": "display_data"
    },
    {
     "data": {
      "application/vnd.jupyter.widget-view+json": {
       "model_id": "a1eec014ca3c470eb0a481bd5a815a7e",
       "version_major": 2,
       "version_minor": 0
      },
      "text/plain": [
       "Button(description='button', style=ButtonStyle())"
      ]
     },
     "metadata": {},
     "output_type": "display_data"
    },
    {
     "data": {
      "application/vnd.jupyter.widget-view+json": {
       "model_id": "8eb9a3b268154542bb5a423bfc898ec1",
       "version_major": 2,
       "version_minor": 0
      },
      "text/plain": [
       "interactive(children=(Output(),), _dom_classes=('widget-interact',))"
      ]
     },
     "metadata": {},
     "output_type": "display_data"
    },
    {
     "data": {
      "application/vnd.jupyter.widget-view+json": {
       "model_id": "b97dc5783afa44cf8ee93c5e2e0b2c02",
       "version_major": 2,
       "version_minor": 0
      },
      "text/plain": [
       "Text(value='', description='File name', placeholder='Type the file to be imported', style=DescriptionStyle(des…"
      ]
     },
     "metadata": {},
     "output_type": "display_data"
    }
   ],
   "source": [
    "import rdkit\n",
    "#from __future__ import print_function\n",
    "from ipywidgets import interact, Layout\n",
    "import ipywidgets as widgets\n",
    "from IPython.display import display\n",
    "import os\n",
    "import pybel\n",
    "import sys\n",
    "from IPython.display import Javascript\n",
    "from ipywidgets import interact, Layout\n",
    "import ipywidgets as widgets\n",
    "from IPython.display import display, clear_output, Javascript\n",
    "from rdkit import Chem\n",
    "from rdkit.Chem.Draw import IPythonConsole\n",
    "import os\n",
    "style = {'description_width': 'initial','font_weight':'bold'}\n",
    "display(widgets.HTML(value=\"<font color=crimson><font size=5><b><u>CHEMLG</font>\"))\n",
    "constraints = widgets.RadioButtons(\n",
    "                options=['with constraints', 'without constraints'],\n",
    "                value='without constraints',\n",
    "                description='Run ChemLG ',\n",
    "                disabled=False)\n",
    "display(constraints)\n",
    "button=widgets.Button(description=\"button\")\n",
    "display(button)\n",
    "GA_func=widgets.Text(description=\"File name\",placeholder=\"Type the file to be imported\",style=style)\n",
    "def on_click_button():\n",
    "    if constraints.value==\"with constraints\":\n",
    "        \n",
    "        display(GA_func)\n",
    "        gen_func = open(\"GA_script.txt\", \"w+\")\n",
    "        gen_func.write(GA_func.value)\n",
    "        gen_func.close()\n",
    "    else:\n",
    "        print(\"hi\")\n",
    "button.on_click(on_click_button)\n",
    "interact(GA_func)\n",
    "        "
   ]
  },
  {
   "cell_type": "code",
   "execution_count": 28,
   "metadata": {},
   "outputs": [
    {
     "ename": "TypeError",
     "evalue": "__call__() takes from 1 to 2 positional arguments but 3 were given",
     "output_type": "error",
     "traceback": [
      "\u001b[1;31m---------------------------------------------------------------------------\u001b[0m",
      "\u001b[1;31mTypeError\u001b[0m                                 Traceback (most recent call last)",
      "\u001b[1;32m<ipython-input-28-b7bcc5e040a4>\u001b[0m in \u001b[0;36m<module>\u001b[1;34m\u001b[0m\n\u001b[0;32m     13\u001b[0m     \u001b[1;32melse\u001b[0m\u001b[1;33m:\u001b[0m\u001b[1;33m\u001b[0m\u001b[0m\n\u001b[0;32m     14\u001b[0m         \u001b[0mprint\u001b[0m\u001b[1;33m(\u001b[0m\u001b[1;34m\"hi\"\u001b[0m\u001b[1;33m)\u001b[0m\u001b[1;33m\u001b[0m\u001b[0m\n\u001b[1;32m---> 15\u001b[1;33m \u001b[0minteract\u001b[0m\u001b[1;33m(\u001b[0m\u001b[0mon_click_button\u001b[0m\u001b[1;33m,\u001b[0m\u001b[0mconstraints\u001b[0m\u001b[1;33m)\u001b[0m\u001b[1;33m\u001b[0m\u001b[0m\n\u001b[0m",
      "\u001b[1;31mTypeError\u001b[0m: __call__() takes from 1 to 2 positional arguments but 3 were given"
     ]
    }
   ],
   "source": [
    "constraints = widgets.RadioButtons(\n",
    "                options=['with constraints', 'without constraints'],\n",
    "                value='without constraints',\n",
    "                description='Run ChemLG ',\n",
    "                disabled=False)\n",
    "def on_click_button(constraints):\n",
    "    if constraints.value==\"with constraints\":\n",
    "        \n",
    "        display(GA_func)\n",
    "        gen_func = open(\"GA_script.txt\", \"w+\")\n",
    "        gen_func.write(GA_func.value)\n",
    "        gen_func.close()\n",
    "    else:\n",
    "        print(\"hi\")\n",
    "interact(on_click_button,constraints)\n"
   ]
  },
  {
   "cell_type": "code",
   "execution_count": 52,
   "metadata": {
    "scrolled": true
   },
   "outputs": [
    {
     "data": {
      "application/vnd.jupyter.widget-view+json": {
       "model_id": "53de1b76054a44b2a5a938e1cb444423",
       "version_major": 2,
       "version_minor": 0
      },
      "text/plain": [
       "interactive(children=(RadioButtons(description='Run ChemLG ', index=1, options=('with constraints', 'without c…"
      ]
     },
     "metadata": {},
     "output_type": "display_data"
    },
    {
     "data": {
      "text/plain": [
       "<function __main__.constraints(x)>"
      ]
     },
     "execution_count": 52,
     "metadata": {},
     "output_type": "execute_result"
    }
   ],
   "source": [
    "def constraints(x):\n",
    "    GA_func=widgets.Textarea(description=\"GA function\",placeholder=\"Type the GA function to be incorporated for library selection\", layout=Layout(width='80%', height='300px'))\n",
    "    if x== 'with constraints':\n",
    "        display(GA_func)\n",
    "        zero=widgets.Button(description=\"Next\")\n",
    "        display(zero)\n",
    "        def on_button_click(a):\n",
    "            if GA_func.value==\"\":\n",
    "                print(\"GA function empty\")\n",
    "            else:\n",
    "                gen_func = open(\"GA_script.txt\", \"w+\")\n",
    "                gen_func.write(GA_func.value)\n",
    "                gen_func.close()\n",
    "        zero.on_click(on_button_click)\n",
    "    else:\n",
    "        print('hi')\n",
    "    \n",
    "\n",
    "interact(constraints, x=widgets.RadioButtons(\n",
    "                options=['with constraints', 'without constraints'],\n",
    "                value='without constraints',\n",
    "                description='Run ChemLG ',\n",
    "                disabled=False))"
   ]
  },
  {
   "cell_type": "code",
   "execution_count": null,
   "metadata": {},
   "outputs": [],
   "source": []
  }
 ],
 "metadata": {
  "kernelspec": {
   "display_name": "chemlg",
   "language": "python",
   "name": "my_chemlg_env"
  },
  "language_info": {
   "codemirror_mode": {
    "name": "ipython",
    "version": 3
   },
   "file_extension": ".py",
   "mimetype": "text/x-python",
   "name": "python",
   "nbconvert_exporter": "python",
   "pygments_lexer": "ipython3",
   "version": "3.6.6"
  }
 },
 "nbformat": 4,
 "nbformat_minor": 2
}
